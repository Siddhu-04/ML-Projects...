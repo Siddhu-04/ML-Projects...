{
  "nbformat": 4,
  "nbformat_minor": 0,
  "metadata": {
    "colab": {
      "provenance": []
    },
    "kernelspec": {
      "name": "python3",
      "display_name": "Python 3"
    },
    "language_info": {
      "name": "python"
    }
  },
  "cells": [
    {
      "cell_type": "markdown",
      "source": [
        "Importing Libraries\n"
      ],
      "metadata": {
        "id": "rIkj2x_KlCGu"
      }
    },
    {
      "cell_type": "code",
      "source": [
        "import numpy as np\n",
        "import pandas as pd\n",
        "import matplotlib.pyplot as plt\n",
        "from sklearn.model_selection import train_test_split\n",
        "from sklearn.preprocessing import StandardScaler\n",
        "from sklearn.tree import DecisionTreeClassifier\n",
        "from sklearn.metrics import confusion_matrix,accuracy_score\n",
        "from sklearn.ensemble import RandomForestClassifier"
      ],
      "metadata": {
        "id": "4vQifYcVlGJz"
      },
      "execution_count": 59,
      "outputs": []
    },
    {
      "cell_type": "markdown",
      "source": [
        "Importing Dataset"
      ],
      "metadata": {
        "id": "HQFi655xlJ_Q"
      }
    },
    {
      "cell_type": "code",
      "source": [
        "dataset=pd.read_csv('wine_data.csv')"
      ],
      "metadata": {
        "id": "JPaUiZzulMSH"
      },
      "execution_count": 60,
      "outputs": []
    },
    {
      "cell_type": "markdown",
      "source": [
        "Q1.What is the most frequently occurring wine quality? What is the highest number in and the lowest number in the quantity column?"
      ],
      "metadata": {
        "id": "bZqqZig3mU9X"
      }
    },
    {
      "cell_type": "code",
      "source": [
        "print(\"Most Frequent Quality\",dataset['quality'].mode()[0])\n",
        "print(\"Lowest Quality :\",dataset['quality'].min())\n",
        "print(\"Highest Quality :\",dataset['quality'].max())"
      ],
      "metadata": {
        "colab": {
          "base_uri": "https://localhost:8080/"
        },
        "id": "2KjiGs0LmaeR",
        "outputId": "4c128851-ea15-4b9c-81de-34f9ae74404c"
      },
      "execution_count": 46,
      "outputs": [
        {
          "output_type": "stream",
          "name": "stdout",
          "text": [
            "Most Frequent Quality 5\n",
            "Lowest Quality : 3\n",
            "Highest Quality : 8\n"
          ]
        }
      ]
    },
    {
      "cell_type": "markdown",
      "source": [
        "Q2.\tHow is `fixed acidity` correlated to the quality of the wine? How does the alcohol content affect the quality? How is the `free Sulphur dioxide` content correlated to the quality of the wine?"
      ],
      "metadata": {
        "id": "x7klobSHn3h8"
      }
    },
    {
      "cell_type": "code",
      "source": [
        "# fixed acidity vs quality\n",
        "corr_matrix=dataset[['fixed acidity','quality']].corr()\n",
        "print(\"Correlation between fixed acidity and quality is :\",corr_matrix.loc['fixed acidity','quality'])\n",
        "\n",
        "# alcohol vs quality\n",
        "corr_matrix=dataset[['alcohol','quality']].corr()\n",
        "print(\"Correlation between alcohol and quality is :\",corr_matrix.loc['alcohol','quality'])\n",
        "\n",
        "# free sulfur dioxide vs quality\n",
        "corr_matrix=dataset[['free sulfur dioxide','quality']].corr()\n",
        "print(\"Correlation between free sulfur dioxide and quality is :\",corr_matrix.loc['free sulfur dioxide','quality'])\n"
      ],
      "metadata": {
        "colab": {
          "base_uri": "https://localhost:8080/"
        },
        "id": "zJmzsNTin9rI",
        "outputId": "c8367bf8-e756-448b-a664-6e837c81e6c9"
      },
      "execution_count": 61,
      "outputs": [
        {
          "output_type": "stream",
          "name": "stdout",
          "text": [
            "Correlation between fixed acidity and quality is : 0.12405164911322257\n",
            "Correlation between alcohol and quality is : 0.4761663239995377\n",
            "Correlation between free sulfur dioxide and quality is : -0.05065605724427594\n"
          ]
        }
      ]
    },
    {
      "cell_type": "markdown",
      "source": [
        "Q3.\tWhat is the average `residual sugar` for the best quality wine and the lowest quality wine in the dataset?"
      ],
      "metadata": {
        "id": "reX2UoPjo6nE"
      }
    },
    {
      "cell_type": "code",
      "source": [
        "print(dataset.groupby('quality')['residual sugar'].mean())\n",
        "print(\"Avg residual sugar for best quality wine is :\", dataset.groupby('quality')['residual sugar'].mean().loc[dataset['quality'].max()])\n",
        "print(\"Avg residual sugar for lowest quality wine is :\", dataset.groupby('quality')['residual sugar'].mean().loc[dataset['quality'].min()])"
      ],
      "metadata": {
        "colab": {
          "base_uri": "https://localhost:8080/"
        },
        "id": "Q9w2ojMQo78A",
        "outputId": "73b0298f-d6a1-47b9-afaa-5ebf77171409"
      },
      "execution_count": 62,
      "outputs": [
        {
          "output_type": "stream",
          "name": "stdout",
          "text": [
            "quality\n",
            "3    2.635000\n",
            "4    2.694340\n",
            "5    2.528855\n",
            "6    2.477194\n",
            "7    2.720603\n",
            "8    2.577778\n",
            "Name: residual sugar, dtype: float64\n",
            "Avg residual sugar for best quality wine is : 2.5777777777777775\n",
            "Avg residual sugar for lowest quality wine is : 2.6350000000000002\n"
          ]
        }
      ]
    },
    {
      "cell_type": "markdown",
      "source": [
        "Q4.\tDoes `volatile acidity` has an effect over the quality of the wine samples in the dataset?"
      ],
      "metadata": {
        "id": "6Jqi7YfFtBVf"
      }
    },
    {
      "cell_type": "code",
      "source": [
        "print(dataset.groupby('quality')['volatile acidity'].mean())\n",
        "\n",
        "# Visualization by plotting graph\n",
        "plt.scatter(dataset['quality'],dataset['volatile acidity'])\n",
        "plt.xlabel('Quality')\n",
        "plt.ylabel('Volatile Acidity')\n",
        "plt.show()"
      ],
      "metadata": {
        "colab": {
          "base_uri": "https://localhost:8080/",
          "height": 588
        },
        "id": "iGSc-3uQtClz",
        "outputId": "26a609a9-592e-4976-8ecd-35c026bfa604"
      },
      "execution_count": 64,
      "outputs": [
        {
          "output_type": "stream",
          "name": "stdout",
          "text": [
            "quality\n",
            "3    0.884500\n",
            "4    0.693962\n",
            "5    0.577041\n",
            "6    0.497484\n",
            "7    0.403920\n",
            "8    0.423333\n",
            "Name: volatile acidity, dtype: float64\n"
          ]
        },
        {
          "output_type": "display_data",
          "data": {
            "text/plain": [
              "<Figure size 640x480 with 1 Axes>"
            ],
            "image/png": "[encoded data removed]"
          },
          "metadata": {}
        }
      ]
    },
    {
      "cell_type": "markdown",
      "source": [
        "Q5.\tTrain a Decision Tree model and Random Forest Model separately to predict the Quality of the given samples of wine. Compare the Accuracy scores for both models."
      ],
      "metadata": {
        "id": "9acrZ_afuGSl"
      }
    },
    {
      "cell_type": "code",
      "source": [
        "# Splitting the dataset\n",
        "from sklearn.model_selection import train_test_split\n",
        "x_train,x_test,y_train,y_test=train_test_split(dataset.drop('quality',axis=1),dataset['quality'],test_size=0.2,random_state=42)\n",
        "\n",
        "# Feature Scaling for unbiased predictions\n",
        "from sklearn.preprocessing import StandardScaler\n",
        "sc=StandardScaler()\n",
        "x_train=sc.fit_transform(x_train)\n",
        "x_test=sc.transform(x_test)\n",
        "\n",
        "# Training the Decision Tree model\n",
        "from sklearn.tree import DecisionTreeClassifier\n",
        "classifier=DecisionTreeClassifier( criterion='entropy',random_state=42)\n",
        "classifier.fit(x_train,y_train)\n",
        "y_pred=classifier.predict(x_test)\n",
        "\n",
        "# Making the Confusion Matrix and checking accuracy of our model\n",
        "from sklearn.metrics import confusion_matrix,accuracy_score\n",
        "print(\"Accuracy Score for Decision Tree model:\",accuracy_score(y_test,y_pred))\n",
        "\n",
        "# Training the Random Forest model\n",
        "from sklearn.ensemble import RandomForestClassifier\n",
        "classifier=RandomForestClassifier(n_estimators=100,criterion='entropy',random_state=42)\n",
        "classifier.fit(x_train,y_train)\n",
        "y_pred=classifier.predict(x_test)\n",
        "\n",
        "print(\"Accuracy Score for Random Forest model:\",accuracy_score(y_test,y_pred))\n",
        "\n"
      ],
      "metadata": {
        "colab": {
          "base_uri": "https://localhost:8080/"
        },
        "id": "SS3wLcAZuH-u",
        "outputId": "a84b53e8-4155-44fc-e0c7-841e1787be17"
      },
      "execution_count": 65,
      "outputs": [
        {
          "output_type": "stream",
          "name": "stdout",
          "text": [
            "Accuracy Score for Decision Tree model: 0.55625\n",
            "Accuracy Score for Random Forest model: 0.671875\n"
          ]
        }
      ]
    }
  ]
}